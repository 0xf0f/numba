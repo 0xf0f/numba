{
 "metadata": {
  "name": "polynomial"
 }, 
 "nbformat": 2, 
 "worksheets": [
  {
   "cells": [
    {
     "cell_type": "code", 
     "collapsed": false, 
     "input": [
      "import polynomial as poly", 
      "import numpy as np", 
      "", 
      "discmnt = poly.ufunc_discriminant()", 
      "A = np.random.sample(5000000)", 
      "B = np.random.sample(5000000) + 10  # avoid imaginery number", 
      "C = np.random.sample(5000000)", 
      "", 
      "%timeit discmnt(A, B, C)"
     ], 
     "language": "python", 
     "outputs": [
      {
       "output_type": "stream", 
       "stream": "stderr", 
       "text": [
        "", 
        "\u001b[1mDEBUG -- translate:1411:op_BINARY_POWER\u001b[0m", 
        "<Variable(val=<llvm.core.Argument object at 0x9af8f4c>, _llvm=<llvm.core.Argument object at 0x9af8f4c>, typ='i32')> ** <Variable(val=2, _llvm=None, typ='i32')>"
       ]
      }, 
      {
       "output_type": "stream", 
       "stream": "stderr", 
       "text": [
        "", 
        "\u001b[1mDEBUG -- translate:1411:op_BINARY_POWER\u001b[0m", 
        "<Variable(val=<llvm.core.Argument object at 0x9afd44c>, _llvm=<llvm.core.Argument object at 0x9afd44c>, typ='i64')> ** <Variable(val=2, _llvm=None, typ='i32')>"
       ]
      }, 
      {
       "output_type": "stream", 
       "stream": "stderr", 
       "text": [
        "", 
        "\u001b[1mDEBUG -- translate:1411:op_BINARY_POWER\u001b[0m", 
        "<Variable(val=<llvm.core.Argument object at 0x9afd76c>, _llvm=<llvm.core.Argument object at 0x9afd76c>, typ='f32')> ** <Variable(val=2, _llvm=None, typ='i32')>"
       ]
      }, 
      {
       "output_type": "stream", 
       "stream": "stderr", 
       "text": [
        "", 
        "\u001b[1mDEBUG -- translate:1411:op_BINARY_POWER\u001b[0m", 
        "<Variable(val=<llvm.core.Argument object at 0x9afd96c>, _llvm=<llvm.core.Argument object at 0x9afd96c>, typ='f64')> ** <Variable(val=2, _llvm=None, typ='i32')>"
       ]
      }, 
      {
       "output_type": "stream", 
       "stream": "stdout", 
       "text": [
        "1 loops, best of 3: 292 ms per loop"
       ]
      }
     ], 
     "prompt_number": 1
    }, 
    {
     "cell_type": "code", 
     "collapsed": false, 
     "input": [
      "np_discmnt = np.vectorize(poly.discriminant)", 
      "%timeit np_discmnt(A, B, C)"
     ], 
     "language": "python", 
     "outputs": [
      {
       "output_type": "stream", 
       "stream": "stdout", 
       "text": [
        "1 loops, best of 3: 6.07 s per loop"
       ]
      }
     ], 
     "prompt_number": 2
    }, 
    {
     "cell_type": "code", 
     "collapsed": false, 
     "input": [
      "from numbapro.vectorize.parallel import ParallelVectorize", 
      "parallel_discmnt = poly.ufunc_discriminant(ParallelVectorize)", 
      "", 
      "%timeit parallel_discmnt(A, B, C)"
     ], 
     "language": "python", 
     "outputs": [
      {
       "output_type": "stream", 
       "stream": "stderr", 
       "text": [
        "", 
        "\u001b[1mDEBUG -- translate:1411:op_BINARY_POWER\u001b[0m", 
        "<Variable(val=<llvm.core.Argument object at 0x9b0f14c>, _llvm=<llvm.core.Argument object at 0x9b0f14c>, typ='i32')> ** <Variable(val=2, _llvm=None, typ='i32')>"
       ]
      }, 
      {
       "output_type": "stream", 
       "stream": "stderr", 
       "text": [
        "", 
        "\u001b[1mDEBUG -- translate:1411:op_BINARY_POWER\u001b[0m", 
        "<Variable(val=<llvm.core.Argument object at 0x9b0f36c>, _llvm=<llvm.core.Argument object at 0x9b0f36c>, typ='i64')> ** <Variable(val=2, _llvm=None, typ='i32')>"
       ]
      }, 
      {
       "output_type": "stream", 
       "stream": "stderr", 
       "text": [
        "", 
        "\u001b[1mDEBUG -- translate:1411:op_BINARY_POWER\u001b[0m", 
        "<Variable(val=<llvm.core.Argument object at 0x9b0f60c>, _llvm=<llvm.core.Argument object at 0x9b0f60c>, typ='f32')> ** <Variable(val=2, _llvm=None, typ='i32')>"
       ]
      }, 
      {
       "output_type": "stream", 
       "stream": "stderr", 
       "text": [
        "", 
        "\u001b[1mDEBUG -- translate:1411:op_BINARY_POWER\u001b[0m", 
        "<Variable(val=<llvm.core.Argument object at 0x9b0f80c>, _llvm=<llvm.core.Argument object at 0x9b0f80c>, typ='f64')> ** <Variable(val=2, _llvm=None, typ='i32')>"
       ]
      }, 
      {
       "output_type": "stream", 
       "stream": "stdout", 
       "text": [
        "10 loops, best of 3: 132 ms per loop"
       ]
      }
     ], 
     "prompt_number": 3
    }, 
    {
     "cell_type": "code", 
     "collapsed": false, 
     "input": [
      "from numbapro.vectorize.stream import StreamVectorize", 
      "stream_discmnt = poly.ufunc_discriminant(StreamVectorize)", 
      "", 
      "%timeit stream_discmnt(A, B, C)"
     ], 
     "language": "python", 
     "outputs": [
      {
       "output_type": "stream", 
       "stream": "stderr", 
       "text": [
        "", 
        "\u001b[1mDEBUG -- translate:1411:op_BINARY_POWER\u001b[0m", 
        "<Variable(val=<llvm.core.Argument object at 0x1cf71eec>, _llvm=<llvm.core.Argument object at 0x1cf71eec>, typ='i32')> ** <Variable(val=2, _llvm=None, typ='i32')>"
       ]
      }, 
      {
       "output_type": "stream", 
       "stream": "stderr", 
       "text": [
        "", 
        "\u001b[1mDEBUG -- translate:1411:op_BINARY_POWER\u001b[0m", 
        "<Variable(val=<llvm.core.Argument object at 0x9afdfec>, _llvm=<llvm.core.Argument object at 0x9afdfec>, typ='i64')> ** <Variable(val=2, _llvm=None, typ='i32')>"
       ]
      }, 
      {
       "output_type": "stream", 
       "stream": "stderr", 
       "text": [
        "", 
        "\u001b[1mDEBUG -- translate:1411:op_BINARY_POWER\u001b[0m", 
        "<Variable(val=<llvm.core.Argument object at 0x9afdf8c>, _llvm=<llvm.core.Argument object at 0x9afdf8c>, typ='f32')> ** <Variable(val=2, _llvm=None, typ='i32')>"
       ]
      }, 
      {
       "output_type": "stream", 
       "stream": "stderr", 
       "text": [
        "", 
        "\u001b[1mDEBUG -- translate:1411:op_BINARY_POWER\u001b[0m", 
        "<Variable(val=<llvm.core.Argument object at 0x9b0304c>, _llvm=<llvm.core.Argument object at 0x9b0304c>, typ='f64')> ** <Variable(val=2, _llvm=None, typ='i32')>"
       ]
      }, 
      {
       "output_type": "stream", 
       "stream": "stdout", 
       "text": [
        "1 loops, best of 3: 380 ms per loop"
       ]
      }
     ], 
     "prompt_number": 4
    }, 
    {
     "cell_type": "code", 
     "collapsed": false, 
     "input": [
      "from numbapro.vectorize.cuda import CudaVectorize", 
      "cuda_discmnt = poly.ufunc_discriminant(CudaVectorize)", 
      "", 
      "%timeit cuda_discmnt(A, B, C)"
     ], 
     "language": "python", 
     "outputs": [
      {
       "output_type": "stream", 
       "stream": "stderr", 
       "text": [
        "", 
        "\u001b[1mDEBUG -- translate:1411:op_BINARY_POWER\u001b[0m", 
        "<Variable(val=<llvm.core.Argument object at 0x1cf7176c>, _llvm=<llvm.core.Argument object at 0x1cf7176c>, typ='f32')> ** <Variable(val=2, _llvm=None, typ='i32')>"
       ]
      }, 
      {
       "output_type": "stream", 
       "stream": "stdout", 
       "text": [
        "10 loops, best of 3: 135 ms per loop"
       ]
      }
     ], 
     "prompt_number": 5
    }
   ]
  }
 ]
}