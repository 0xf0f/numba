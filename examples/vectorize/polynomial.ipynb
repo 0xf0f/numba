{
 "metadata": {
  "name": "polynomial"
 }, 
 "nbformat": 2, 
 "worksheets": [
  {
   "cells": [
    {
     "cell_type": "code", 
     "collapsed": false, 
     "input": [
      "import polynomial as poly", 
      "import numpy as np", 
      "", 
      "discmnt = poly.ufunc_discriminant()", 
      "A = np.random.sample(10000)", 
      "B = np.random.sample(10000) + 10  # avoid imaginery number", 
      "C = np.random.sample(10000)", 
      "", 
      "%timeit discmnt(A, B, C)"
     ], 
     "language": "python", 
     "outputs": [
      {
       "output_type": "stream", 
       "stream": "stderr", 
       "text": [
        "", 
        "\u001b[1mDEBUG -- translate:1411:op_BINARY_POWER\u001b[0m", 
        "<Variable(val=<llvm.core.Argument object at 0x3ab1c50>, _llvm=<llvm.core.Argument object at 0x3ab1c50>, typ='i32')> ** <Variable(val=2, _llvm=None, typ='i64')>"
       ]
      }, 
      {
       "output_type": "stream", 
       "stream": "stderr", 
       "text": [
        "", 
        "\u001b[1mDEBUG -- translate:1411:op_BINARY_POWER\u001b[0m", 
        "<Variable(val=<llvm.core.Instruction object at 0x3ab1a10>, _llvm=<llvm.core.Instruction object at 0x3ab1a10>, typ='f64')> ** <Variable(val=0.5, _llvm=None, typ='f64')>"
       ]
      }, 
      {
       "output_type": "stream", 
       "stream": "stderr", 
       "text": [
        "", 
        "\u001b[1mDEBUG -- translate:1411:op_BINARY_POWER\u001b[0m", 
        "<Variable(val=<llvm.core.Argument object at 0x3ab1350>, _llvm=<llvm.core.Argument object at 0x3ab1350>, typ='i64')> ** <Variable(val=2, _llvm=None, typ='i64')>"
       ]
      }, 
      {
       "output_type": "stream", 
       "stream": "stderr", 
       "text": [
        "", 
        "\u001b[1mDEBUG -- translate:1411:op_BINARY_POWER\u001b[0m", 
        "<Variable(val=<llvm.core.Instruction object at 0x3ab1a50>, _llvm=<llvm.core.Instruction object at 0x3ab1a50>, typ='f64')> ** <Variable(val=0.5, _llvm=None, typ='f64')>"
       ]
      }, 
      {
       "output_type": "stream", 
       "stream": "stderr", 
       "text": [
        "", 
        "\u001b[1mDEBUG -- translate:1411:op_BINARY_POWER\u001b[0m", 
        "<Variable(val=<llvm.core.Argument object at 0x3aac090>, _llvm=<llvm.core.Argument object at 0x3aac090>, typ='f32')> ** <Variable(val=2, _llvm=None, typ='i64')>"
       ]
      }, 
      {
       "output_type": "stream", 
       "stream": "stderr", 
       "text": [
        "", 
        "\u001b[1mDEBUG -- translate:1411:op_BINARY_POWER\u001b[0m", 
        "<Variable(val=<llvm.core.Instruction object at 0x3aac610>, _llvm=<llvm.core.Instruction object at 0x3aac610>, typ='f32')> ** <Variable(val=0.5, _llvm=None, typ='f64')>"
       ]
      }, 
      {
       "output_type": "stream", 
       "stream": "stderr", 
       "text": [
        "", 
        "\u001b[1mDEBUG -- translate:1411:op_BINARY_POWER\u001b[0m", 
        "<Variable(val=<llvm.core.Argument object at 0x3aac390>, _llvm=<llvm.core.Argument object at 0x3aac390>, typ='f64')> ** <Variable(val=2, _llvm=None, typ='i64')>"
       ]
      }, 
      {
       "output_type": "stream", 
       "stream": "stderr", 
       "text": [
        "", 
        "\u001b[1mDEBUG -- translate:1411:op_BINARY_POWER\u001b[0m", 
        "<Variable(val=<llvm.core.Instruction object at 0x3aac410>, _llvm=<llvm.core.Instruction object at 0x3aac410>, typ='f64')> ** <Variable(val=0.5, _llvm=None, typ='f64')>"
       ]
      }, 
      {
       "output_type": "stream", 
       "stream": "stdout", 
       "text": [
        "1000 loops, best of 3: 1.22 ms per loop"
       ]
      }
     ], 
     "prompt_number": 5
    }, 
    {
     "cell_type": "code", 
     "collapsed": false, 
     "input": [
      "np_discmnt = np.vectorize(poly.discriminant)", 
      "%timeit np_discmnt(A, B, C)"
     ], 
     "language": "python", 
     "outputs": [
      {
       "output_type": "stream", 
       "stream": "stdout", 
       "text": [
        "100 loops, best of 3: 7.69 ms per loop"
       ]
      }
     ], 
     "prompt_number": 6
    }, 
    {
     "cell_type": "code", 
     "collapsed": false, 
     "input": [
      "from numbapro.vectorize.parallel import ParallelVectorize", 
      "parallel_discmnt = poly.ufunc_discriminant(ParallelVectorize)", 
      "", 
      "%timeit parallel_discmnt(A, B, C)"
     ], 
     "language": "python", 
     "outputs": [
      {
       "output_type": "stream", 
       "stream": "stderr", 
       "text": [
        "", 
        "\u001b[1mDEBUG -- translate:1411:op_BINARY_POWER\u001b[0m", 
        "<Variable(val=<llvm.core.Argument object at 0x3aba910>, _llvm=<llvm.core.Argument object at 0x3aba910>, typ='i32')> ** <Variable(val=2, _llvm=None, typ='i64')>"
       ]
      }, 
      {
       "output_type": "stream", 
       "stream": "stderr", 
       "text": [
        "", 
        "\u001b[1mDEBUG -- translate:1411:op_BINARY_POWER\u001b[0m", 
        "<Variable(val=<llvm.core.Instruction object at 0x3abafd0>, _llvm=<llvm.core.Instruction object at 0x3abafd0>, typ='f64')> ** <Variable(val=0.5, _llvm=None, typ='f64')>"
       ]
      }, 
      {
       "output_type": "stream", 
       "stream": "stderr", 
       "text": [
        "", 
        "\u001b[1mDEBUG -- translate:1411:op_BINARY_POWER\u001b[0m", 
        "<Variable(val=<llvm.core.Argument object at 0x3abac90>, _llvm=<llvm.core.Argument object at 0x3abac90>, typ='i64')> ** <Variable(val=2, _llvm=None, typ='i64')>"
       ]
      }, 
      {
       "output_type": "stream", 
       "stream": "stderr", 
       "text": [
        "", 
        "\u001b[1mDEBUG -- translate:1411:op_BINARY_POWER\u001b[0m", 
        "<Variable(val=<llvm.core.Instruction object at 0x3aba190>, _llvm=<llvm.core.Instruction object at 0x3aba190>, typ='f64')> ** <Variable(val=0.5, _llvm=None, typ='f64')>"
       ]
      }, 
      {
       "output_type": "stream", 
       "stream": "stderr", 
       "text": [
        "", 
        "\u001b[1mDEBUG -- translate:1411:op_BINARY_POWER\u001b[0m", 
        "<Variable(val=<llvm.core.Argument object at 0x3aba250>, _llvm=<llvm.core.Argument object at 0x3aba250>, typ='f32')> ** <Variable(val=2, _llvm=None, typ='i64')>"
       ]
      }, 
      {
       "output_type": "stream", 
       "stream": "stderr", 
       "text": [
        "", 
        "\u001b[1mDEBUG -- translate:1411:op_BINARY_POWER\u001b[0m", 
        "<Variable(val=<llvm.core.Instruction object at 0x3aba1d0>, _llvm=<llvm.core.Instruction object at 0x3aba1d0>, typ='f32')> ** <Variable(val=0.5, _llvm=None, typ='f64')>"
       ]
      }, 
      {
       "output_type": "stream", 
       "stream": "stderr", 
       "text": [
        "", 
        "\u001b[1mDEBUG -- translate:1411:op_BINARY_POWER\u001b[0m", 
        "<Variable(val=<llvm.core.Argument object at 0x3aac8d0>, _llvm=<llvm.core.Argument object at 0x3aac8d0>, typ='f64')> ** <Variable(val=2, _llvm=None, typ='i64')>"
       ]
      }, 
      {
       "output_type": "stream", 
       "stream": "stderr", 
       "text": [
        "", 
        "\u001b[1mDEBUG -- translate:1411:op_BINARY_POWER\u001b[0m", 
        "<Variable(val=<llvm.core.Instruction object at 0x3aace50>, _llvm=<llvm.core.Instruction object at 0x3aace50>, typ='f64')> ** <Variable(val=0.5, _llvm=None, typ='f64')>"
       ]
      }, 
      {
       "output_type": "stream", 
       "stream": "stdout", 
       "text": [
        "1000 loops, best of 3: 800 us per loop"
       ]
      }
     ], 
     "prompt_number": 7
    }, 
    {
     "cell_type": "code", 
     "collapsed": false, 
     "input": [
      "from numbapro.vectorize.stream import StreamVectorize", 
      "stream_discmnt = poly.ufunc_discriminant(StreamVectorize)", 
      "", 
      "%timeit stream_discmnt(A, B, C)"
     ], 
     "language": "python", 
     "outputs": [
      {
       "output_type": "stream", 
       "stream": "stderr", 
       "text": [
        "", 
        "\u001b[1mDEBUG -- translate:1411:op_BINARY_POWER\u001b[0m", 
        "<Variable(val=<llvm.core.Argument object at 0x3aaa5d0>, _llvm=<llvm.core.Argument object at 0x3aaa5d0>, typ='i32')> ** <Variable(val=2, _llvm=None, typ='i64')>"
       ]
      }, 
      {
       "output_type": "stream", 
       "stream": "stderr", 
       "text": [
        "", 
        "\u001b[1mDEBUG -- translate:1411:op_BINARY_POWER\u001b[0m", 
        "<Variable(val=<llvm.core.Instruction object at 0x3aacbd0>, _llvm=<llvm.core.Instruction object at 0x3aacbd0>, typ='f64')> ** <Variable(val=0.5, _llvm=None, typ='f64')>"
       ]
      }, 
      {
       "output_type": "stream", 
       "stream": "stderr", 
       "text": [
        "", 
        "\u001b[1mDEBUG -- translate:1411:op_BINARY_POWER\u001b[0m", 
        "<Variable(val=<llvm.core.Argument object at 0x3ac0150>, _llvm=<llvm.core.Argument object at 0x3ac0150>, typ='i64')> ** <Variable(val=2, _llvm=None, typ='i64')>"
       ]
      }, 
      {
       "output_type": "stream", 
       "stream": "stderr", 
       "text": [
        "", 
        "\u001b[1mDEBUG -- translate:1411:op_BINARY_POWER\u001b[0m", 
        "<Variable(val=<llvm.core.Instruction object at 0x3ac0490>, _llvm=<llvm.core.Instruction object at 0x3ac0490>, typ='f64')> ** <Variable(val=0.5, _llvm=None, typ='f64')>"
       ]
      }, 
      {
       "output_type": "stream", 
       "stream": "stderr", 
       "text": [
        "", 
        "\u001b[1mDEBUG -- translate:1411:op_BINARY_POWER\u001b[0m", 
        "<Variable(val=<llvm.core.Argument object at 0x3ac0510>, _llvm=<llvm.core.Argument object at 0x3ac0510>, typ='f32')> ** <Variable(val=2, _llvm=None, typ='i64')>"
       ]
      }, 
      {
       "output_type": "stream", 
       "stream": "stderr", 
       "text": [
        "", 
        "\u001b[1mDEBUG -- translate:1411:op_BINARY_POWER\u001b[0m", 
        "<Variable(val=<llvm.core.Instruction object at 0x3ac0850>, _llvm=<llvm.core.Instruction object at 0x3ac0850>, typ='f32')> ** <Variable(val=0.5, _llvm=None, typ='f64')>"
       ]
      }, 
      {
       "output_type": "stream", 
       "stream": "stderr", 
       "text": [
        "", 
        "\u001b[1mDEBUG -- translate:1411:op_BINARY_POWER\u001b[0m", 
        "<Variable(val=<llvm.core.Argument object at 0x3ac0990>, _llvm=<llvm.core.Argument object at 0x3ac0990>, typ='f64')> ** <Variable(val=2, _llvm=None, typ='i64')>"
       ]
      }, 
      {
       "output_type": "stream", 
       "stream": "stderr", 
       "text": [
        "", 
        "\u001b[1mDEBUG -- translate:1411:op_BINARY_POWER\u001b[0m", 
        "<Variable(val=<llvm.core.Instruction object at 0x3ac0c10>, _llvm=<llvm.core.Instruction object at 0x3ac0c10>, typ='f64')> ** <Variable(val=0.5, _llvm=None, typ='f64')>"
       ]
      }, 
      {
       "output_type": "stream", 
       "stream": "stdout", 
       "text": [
        "1000 loops, best of 3: 1.29 ms per loop"
       ]
      }
     ], 
     "prompt_number": 8
    }
   ]
  }
 ]
}